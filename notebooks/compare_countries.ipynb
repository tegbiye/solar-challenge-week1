{
 "cells": [
  {
   "cell_type": "markdown",
   "id": "851d3523-a65a-422c-9ce5-a109c10516d7",
   "metadata": {},
   "source": [
    "#### 1. Import the dependecies"
   ]
  },
  {
   "cell_type": "code",
   "execution_count": 1,
   "id": "af98ab49-b3df-49ce-8d4c-0f50f9085b16",
   "metadata": {},
   "outputs": [],
   "source": [
    "import pandas as pd\n",
    "import numpy as np\n",
    "import seaborn as sns\n",
    "import matplotlib.pyplot as plt\n",
    "from scipy.stats import f_oneway, kruskal"
   ]
  },
  {
   "cell_type": "markdown",
   "id": "967839ea-147c-4286-b7d7-dbc128739c1f",
   "metadata": {},
   "source": [
    "#### 2. Load the Dataset"
   ]
  },
  {
   "cell_type": "code",
   "execution_count": 3,
   "id": "1a484c06-2226-4e8e-a399-f5dbe0e37f5e",
   "metadata": {},
   "outputs": [],
   "source": [
    "# Load Solar analysis dataset\n",
    "df1 = pd.read_csv(\"../data/benin_clean.csv\")\n",
    "df2 = pd.read_csv(\"../data/sierraleone_clean.csv\")\n",
    "df3 = pd.read_csv(\"../data/togo_clean.csv\")"
   ]
  },
  {
   "cell_type": "code",
   "execution_count": 4,
   "id": "988117b9-0133-4727-88c7-34c9dbb051ee",
   "metadata": {},
   "outputs": [],
   "source": [
    "# Add a column to identify country\n",
    "df1['Country'] = 'Benin'\n",
    "df2['Country'] = 'Sierra Leone'\n",
    "df3['Country'] = 'Togo'"
   ]
  },
  {
   "cell_type": "code",
   "execution_count": 5,
   "id": "4092bbd2-10a0-4845-8518-480158b4ffbb",
   "metadata": {},
   "outputs": [],
   "source": [
    "# Concatenate all data\n",
    "df = pd.concat([df1, df2, df3], ignore_index=True)"
   ]
  },
  {
   "cell_type": "code",
   "execution_count": 6,
   "id": "f4cad1c0-2b45-446e-9be3-29fa3e22caa8",
   "metadata": {},
   "outputs": [
    {
     "name": "stdout",
     "output_type": "stream",
     "text": [
      "<class 'pandas.core.frame.DataFrame'>\n",
      "RangeIndex: 1553653 entries, 0 to 1553652\n",
      "Data columns (total 19 columns):\n",
      " #   Column         Non-Null Count    Dtype  \n",
      "---  ------         --------------    -----  \n",
      " 0   Timestamp      1553653 non-null  object \n",
      " 1   GHI            1553653 non-null  float64\n",
      " 2   DNI            1553653 non-null  float64\n",
      " 3   DHI            1553653 non-null  float64\n",
      " 4   ModA           1553653 non-null  float64\n",
      " 5   ModB           1553653 non-null  float64\n",
      " 6   Tamb           1553653 non-null  float64\n",
      " 7   RH             1553653 non-null  float64\n",
      " 8   WS             1553653 non-null  float64\n",
      " 9   WSgust         1553653 non-null  float64\n",
      " 10  WSstdev        1553653 non-null  float64\n",
      " 11  WD             1553653 non-null  float64\n",
      " 12  WDstdev        1553653 non-null  float64\n",
      " 13  BP             1553653 non-null  int64  \n",
      " 14  Cleaning       1553653 non-null  int64  \n",
      " 15  Precipitation  1553653 non-null  float64\n",
      " 16  TModA          1553653 non-null  float64\n",
      " 17  TModB          1553653 non-null  float64\n",
      " 18  Country        1553653 non-null  object \n",
      "dtypes: float64(15), int64(2), object(2)\n",
      "memory usage: 225.2+ MB\n"
     ]
    }
   ],
   "source": [
    "df.info()"
   ]
  },
  {
   "cell_type": "code",
   "execution_count": 7,
   "id": "ed8e953f-f3f2-4e8a-871a-f490015946c3",
   "metadata": {},
   "outputs": [
    {
     "data": {
      "text/html": [
       "<div>\n",
       "<style scoped>\n",
       "    .dataframe tbody tr th:only-of-type {\n",
       "        vertical-align: middle;\n",
       "    }\n",
       "\n",
       "    .dataframe tbody tr th {\n",
       "        vertical-align: top;\n",
       "    }\n",
       "\n",
       "    .dataframe thead th {\n",
       "        text-align: right;\n",
       "    }\n",
       "</style>\n",
       "<table border=\"1\" class=\"dataframe\">\n",
       "  <thead>\n",
       "    <tr style=\"text-align: right;\">\n",
       "      <th></th>\n",
       "      <th>Timestamp</th>\n",
       "      <th>GHI</th>\n",
       "      <th>DNI</th>\n",
       "      <th>DHI</th>\n",
       "      <th>ModA</th>\n",
       "      <th>ModB</th>\n",
       "      <th>Tamb</th>\n",
       "      <th>RH</th>\n",
       "      <th>WS</th>\n",
       "      <th>WSgust</th>\n",
       "      <th>WSstdev</th>\n",
       "      <th>WD</th>\n",
       "      <th>WDstdev</th>\n",
       "      <th>BP</th>\n",
       "      <th>Cleaning</th>\n",
       "      <th>Precipitation</th>\n",
       "      <th>TModA</th>\n",
       "      <th>TModB</th>\n",
       "      <th>Country</th>\n",
       "    </tr>\n",
       "  </thead>\n",
       "  <tbody>\n",
       "    <tr>\n",
       "      <th>0</th>\n",
       "      <td>2021-08-09 00:01:00</td>\n",
       "      <td>-1.2</td>\n",
       "      <td>-0.2</td>\n",
       "      <td>-1.1</td>\n",
       "      <td>0.0</td>\n",
       "      <td>0.0</td>\n",
       "      <td>26.2</td>\n",
       "      <td>93.4</td>\n",
       "      <td>0.0</td>\n",
       "      <td>0.4</td>\n",
       "      <td>0.1</td>\n",
       "      <td>122.1</td>\n",
       "      <td>0.0</td>\n",
       "      <td>998</td>\n",
       "      <td>0</td>\n",
       "      <td>0.0</td>\n",
       "      <td>26.3</td>\n",
       "      <td>26.2</td>\n",
       "      <td>Benin</td>\n",
       "    </tr>\n",
       "    <tr>\n",
       "      <th>1</th>\n",
       "      <td>2021-08-09 00:02:00</td>\n",
       "      <td>-1.1</td>\n",
       "      <td>-0.2</td>\n",
       "      <td>-1.1</td>\n",
       "      <td>0.0</td>\n",
       "      <td>0.0</td>\n",
       "      <td>26.2</td>\n",
       "      <td>93.6</td>\n",
       "      <td>0.0</td>\n",
       "      <td>0.0</td>\n",
       "      <td>0.0</td>\n",
       "      <td>0.0</td>\n",
       "      <td>0.0</td>\n",
       "      <td>998</td>\n",
       "      <td>0</td>\n",
       "      <td>0.0</td>\n",
       "      <td>26.3</td>\n",
       "      <td>26.2</td>\n",
       "      <td>Benin</td>\n",
       "    </tr>\n",
       "    <tr>\n",
       "      <th>2</th>\n",
       "      <td>2021-08-09 00:03:00</td>\n",
       "      <td>-1.1</td>\n",
       "      <td>-0.2</td>\n",
       "      <td>-1.1</td>\n",
       "      <td>0.0</td>\n",
       "      <td>0.0</td>\n",
       "      <td>26.2</td>\n",
       "      <td>93.7</td>\n",
       "      <td>0.3</td>\n",
       "      <td>1.1</td>\n",
       "      <td>0.5</td>\n",
       "      <td>124.6</td>\n",
       "      <td>1.5</td>\n",
       "      <td>997</td>\n",
       "      <td>0</td>\n",
       "      <td>0.0</td>\n",
       "      <td>26.4</td>\n",
       "      <td>26.2</td>\n",
       "      <td>Benin</td>\n",
       "    </tr>\n",
       "    <tr>\n",
       "      <th>3</th>\n",
       "      <td>2021-08-09 00:04:00</td>\n",
       "      <td>-1.1</td>\n",
       "      <td>-0.1</td>\n",
       "      <td>-1.0</td>\n",
       "      <td>0.0</td>\n",
       "      <td>0.0</td>\n",
       "      <td>26.2</td>\n",
       "      <td>93.3</td>\n",
       "      <td>0.2</td>\n",
       "      <td>0.7</td>\n",
       "      <td>0.4</td>\n",
       "      <td>120.3</td>\n",
       "      <td>1.3</td>\n",
       "      <td>997</td>\n",
       "      <td>0</td>\n",
       "      <td>0.0</td>\n",
       "      <td>26.4</td>\n",
       "      <td>26.3</td>\n",
       "      <td>Benin</td>\n",
       "    </tr>\n",
       "    <tr>\n",
       "      <th>4</th>\n",
       "      <td>2021-08-09 00:05:00</td>\n",
       "      <td>-1.0</td>\n",
       "      <td>-0.1</td>\n",
       "      <td>-1.0</td>\n",
       "      <td>0.0</td>\n",
       "      <td>0.0</td>\n",
       "      <td>26.2</td>\n",
       "      <td>93.3</td>\n",
       "      <td>0.1</td>\n",
       "      <td>0.7</td>\n",
       "      <td>0.3</td>\n",
       "      <td>113.2</td>\n",
       "      <td>1.0</td>\n",
       "      <td>997</td>\n",
       "      <td>0</td>\n",
       "      <td>0.0</td>\n",
       "      <td>26.4</td>\n",
       "      <td>26.3</td>\n",
       "      <td>Benin</td>\n",
       "    </tr>\n",
       "  </tbody>\n",
       "</table>\n",
       "</div>"
      ],
      "text/plain": [
       "             Timestamp  GHI  DNI  DHI  ModA  ModB  Tamb    RH   WS  WSgust  \\\n",
       "0  2021-08-09 00:01:00 -1.2 -0.2 -1.1   0.0   0.0  26.2  93.4  0.0     0.4   \n",
       "1  2021-08-09 00:02:00 -1.1 -0.2 -1.1   0.0   0.0  26.2  93.6  0.0     0.0   \n",
       "2  2021-08-09 00:03:00 -1.1 -0.2 -1.1   0.0   0.0  26.2  93.7  0.3     1.1   \n",
       "3  2021-08-09 00:04:00 -1.1 -0.1 -1.0   0.0   0.0  26.2  93.3  0.2     0.7   \n",
       "4  2021-08-09 00:05:00 -1.0 -0.1 -1.0   0.0   0.0  26.2  93.3  0.1     0.7   \n",
       "\n",
       "   WSstdev     WD  WDstdev   BP  Cleaning  Precipitation  TModA  TModB Country  \n",
       "0      0.1  122.1      0.0  998         0            0.0   26.3   26.2   Benin  \n",
       "1      0.0    0.0      0.0  998         0            0.0   26.3   26.2   Benin  \n",
       "2      0.5  124.6      1.5  997         0            0.0   26.4   26.2   Benin  \n",
       "3      0.4  120.3      1.3  997         0            0.0   26.4   26.3   Benin  \n",
       "4      0.3  113.2      1.0  997         0            0.0   26.4   26.3   Benin  "
      ]
     },
     "execution_count": 7,
     "metadata": {},
     "output_type": "execute_result"
    }
   ],
   "source": [
    "df.head()"
   ]
  },
  {
   "cell_type": "code",
   "execution_count": 8,
   "id": "13259c82-6502-4c73-bacc-0caf8a1aba95",
   "metadata": {},
   "outputs": [
    {
     "data": {
      "text/html": [
       "<div>\n",
       "<style scoped>\n",
       "    .dataframe tbody tr th:only-of-type {\n",
       "        vertical-align: middle;\n",
       "    }\n",
       "\n",
       "    .dataframe tbody tr th {\n",
       "        vertical-align: top;\n",
       "    }\n",
       "\n",
       "    .dataframe thead th {\n",
       "        text-align: right;\n",
       "    }\n",
       "</style>\n",
       "<table border=\"1\" class=\"dataframe\">\n",
       "  <thead>\n",
       "    <tr style=\"text-align: right;\">\n",
       "      <th></th>\n",
       "      <th>Timestamp</th>\n",
       "      <th>GHI</th>\n",
       "      <th>DNI</th>\n",
       "      <th>DHI</th>\n",
       "      <th>ModA</th>\n",
       "      <th>ModB</th>\n",
       "      <th>Tamb</th>\n",
       "      <th>RH</th>\n",
       "      <th>WS</th>\n",
       "      <th>WSgust</th>\n",
       "      <th>WSstdev</th>\n",
       "      <th>WD</th>\n",
       "      <th>WDstdev</th>\n",
       "      <th>BP</th>\n",
       "      <th>Cleaning</th>\n",
       "      <th>Precipitation</th>\n",
       "      <th>TModA</th>\n",
       "      <th>TModB</th>\n",
       "      <th>Country</th>\n",
       "    </tr>\n",
       "  </thead>\n",
       "  <tbody>\n",
       "    <tr>\n",
       "      <th>1553648</th>\n",
       "      <td>2022-10-24 23:56:00</td>\n",
       "      <td>-0.8</td>\n",
       "      <td>0.0</td>\n",
       "      <td>0.0</td>\n",
       "      <td>0.0</td>\n",
       "      <td>0.0</td>\n",
       "      <td>25.2</td>\n",
       "      <td>53.8</td>\n",
       "      <td>0.0</td>\n",
       "      <td>0.0</td>\n",
       "      <td>0.0</td>\n",
       "      <td>0.0</td>\n",
       "      <td>0.0</td>\n",
       "      <td>977</td>\n",
       "      <td>0</td>\n",
       "      <td>0.0</td>\n",
       "      <td>24.3</td>\n",
       "      <td>24.0</td>\n",
       "      <td>Togo</td>\n",
       "    </tr>\n",
       "    <tr>\n",
       "      <th>1553649</th>\n",
       "      <td>2022-10-24 23:57:00</td>\n",
       "      <td>-0.9</td>\n",
       "      <td>0.0</td>\n",
       "      <td>0.0</td>\n",
       "      <td>0.0</td>\n",
       "      <td>0.0</td>\n",
       "      <td>25.3</td>\n",
       "      <td>53.5</td>\n",
       "      <td>0.0</td>\n",
       "      <td>0.0</td>\n",
       "      <td>0.0</td>\n",
       "      <td>0.0</td>\n",
       "      <td>0.0</td>\n",
       "      <td>977</td>\n",
       "      <td>0</td>\n",
       "      <td>0.0</td>\n",
       "      <td>24.3</td>\n",
       "      <td>24.0</td>\n",
       "      <td>Togo</td>\n",
       "    </tr>\n",
       "    <tr>\n",
       "      <th>1553650</th>\n",
       "      <td>2022-10-24 23:58:00</td>\n",
       "      <td>-1.0</td>\n",
       "      <td>0.0</td>\n",
       "      <td>0.0</td>\n",
       "      <td>0.0</td>\n",
       "      <td>0.0</td>\n",
       "      <td>25.3</td>\n",
       "      <td>53.4</td>\n",
       "      <td>0.0</td>\n",
       "      <td>0.0</td>\n",
       "      <td>0.0</td>\n",
       "      <td>0.0</td>\n",
       "      <td>0.0</td>\n",
       "      <td>977</td>\n",
       "      <td>0</td>\n",
       "      <td>0.0</td>\n",
       "      <td>24.2</td>\n",
       "      <td>23.9</td>\n",
       "      <td>Togo</td>\n",
       "    </tr>\n",
       "    <tr>\n",
       "      <th>1553651</th>\n",
       "      <td>2022-10-24 23:59:00</td>\n",
       "      <td>-1.1</td>\n",
       "      <td>0.0</td>\n",
       "      <td>0.0</td>\n",
       "      <td>0.0</td>\n",
       "      <td>0.0</td>\n",
       "      <td>25.4</td>\n",
       "      <td>53.5</td>\n",
       "      <td>0.0</td>\n",
       "      <td>0.0</td>\n",
       "      <td>0.0</td>\n",
       "      <td>0.0</td>\n",
       "      <td>0.0</td>\n",
       "      <td>977</td>\n",
       "      <td>0</td>\n",
       "      <td>0.0</td>\n",
       "      <td>24.1</td>\n",
       "      <td>23.8</td>\n",
       "      <td>Togo</td>\n",
       "    </tr>\n",
       "    <tr>\n",
       "      <th>1553652</th>\n",
       "      <td>2022-10-25 00:00:00</td>\n",
       "      <td>-1.2</td>\n",
       "      <td>0.0</td>\n",
       "      <td>0.0</td>\n",
       "      <td>0.0</td>\n",
       "      <td>0.0</td>\n",
       "      <td>25.4</td>\n",
       "      <td>52.3</td>\n",
       "      <td>0.0</td>\n",
       "      <td>0.0</td>\n",
       "      <td>0.0</td>\n",
       "      <td>0.0</td>\n",
       "      <td>0.0</td>\n",
       "      <td>977</td>\n",
       "      <td>0</td>\n",
       "      <td>0.0</td>\n",
       "      <td>24.1</td>\n",
       "      <td>23.8</td>\n",
       "      <td>Togo</td>\n",
       "    </tr>\n",
       "  </tbody>\n",
       "</table>\n",
       "</div>"
      ],
      "text/plain": [
       "                   Timestamp  GHI  DNI  DHI  ModA  ModB  Tamb    RH   WS  \\\n",
       "1553648  2022-10-24 23:56:00 -0.8  0.0  0.0   0.0   0.0  25.2  53.8  0.0   \n",
       "1553649  2022-10-24 23:57:00 -0.9  0.0  0.0   0.0   0.0  25.3  53.5  0.0   \n",
       "1553650  2022-10-24 23:58:00 -1.0  0.0  0.0   0.0   0.0  25.3  53.4  0.0   \n",
       "1553651  2022-10-24 23:59:00 -1.1  0.0  0.0   0.0   0.0  25.4  53.5  0.0   \n",
       "1553652  2022-10-25 00:00:00 -1.2  0.0  0.0   0.0   0.0  25.4  52.3  0.0   \n",
       "\n",
       "         WSgust  WSstdev   WD  WDstdev   BP  Cleaning  Precipitation  TModA  \\\n",
       "1553648     0.0      0.0  0.0      0.0  977         0            0.0   24.3   \n",
       "1553649     0.0      0.0  0.0      0.0  977         0            0.0   24.3   \n",
       "1553650     0.0      0.0  0.0      0.0  977         0            0.0   24.2   \n",
       "1553651     0.0      0.0  0.0      0.0  977         0            0.0   24.1   \n",
       "1553652     0.0      0.0  0.0      0.0  977         0            0.0   24.1   \n",
       "\n",
       "         TModB Country  \n",
       "1553648   24.0    Togo  \n",
       "1553649   24.0    Togo  \n",
       "1553650   23.9    Togo  \n",
       "1553651   23.8    Togo  \n",
       "1553652   23.8    Togo  "
      ]
     },
     "execution_count": 8,
     "metadata": {},
     "output_type": "execute_result"
    }
   ],
   "source": [
    "df.tail()"
   ]
  },
  {
   "cell_type": "markdown",
   "id": "0fe1bfe0-a794-4b28-8737-2fd900519162",
   "metadata": {},
   "source": [
    "### I. Metric Comparison - Boxplots"
   ]
  },
  {
   "cell_type": "code",
   "execution_count": 9,
   "id": "031269dc-bbd0-4e3a-a97e-e8ce86c30f05",
   "metadata": {
    "scrolled": true
   },
   "outputs": [
    {
     "data": {
      "image/png": "[encoded data removed]",
      "text/plain": [
       "<Figure size 1800x500 with 3 Axes>"
      ]
     },
     "metadata": {},
     "output_type": "display_data"
    }
   ],
   "source": [
    "metrics = ['GHI', 'DNI', 'DHI']\n",
    "fig, axes = plt.subplots(1, 3, figsize=(18, 5))\n",
    "for i, metric in enumerate(metrics):\n",
    "    sns.boxplot(data=df, x='Country', y=metric, ax=axes[i])\n",
    "    axes[i].set_title(f'{metric} Distribution by Country')\n",
    "plt.tight_layout()\n",
    "plt.show()"
   ]
  },
  {
   "cell_type": "markdown",
   "id": "a1e398f1-7eca-4e45-9bdc-73a67af7fc92",
   "metadata": {},
   "source": [
    "### II. Summary Table: mean, median, std"
   ]
  },
  {
   "cell_type": "code",
   "execution_count": 10,
   "id": "a9ab34b0-9e0c-4fc1-b646-cba580261ab9",
   "metadata": {},
   "outputs": [],
   "source": [
    "summary_table = df.groupby('Country')[metrics].agg(['mean', 'median', 'std']).round(2)\n",
    "summary_table.columns = ['_'.join(col) for col in summary_table.columns]\n",
    "summary_table.reset_index(inplace=True)"
   ]
  },
  {
   "cell_type": "code",
   "execution_count": 11,
   "id": "bffa17bb-eefb-4313-8a7c-e4c04ef8bfd3",
   "metadata": {},
   "outputs": [
    {
     "data": {
      "text/html": [
       "<div>\n",
       "<style scoped>\n",
       "    .dataframe tbody tr th:only-of-type {\n",
       "        vertical-align: middle;\n",
       "    }\n",
       "\n",
       "    .dataframe tbody tr th {\n",
       "        vertical-align: top;\n",
       "    }\n",
       "\n",
       "    .dataframe thead th {\n",
       "        text-align: right;\n",
       "    }\n",
       "</style>\n",
       "<table border=\"1\" class=\"dataframe\">\n",
       "  <thead>\n",
       "    <tr style=\"text-align: right;\">\n",
       "      <th></th>\n",
       "      <th>Country</th>\n",
       "      <th>GHI_mean</th>\n",
       "      <th>GHI_median</th>\n",
       "      <th>GHI_std</th>\n",
       "      <th>DNI_mean</th>\n",
       "      <th>DNI_median</th>\n",
       "      <th>DNI_std</th>\n",
       "      <th>DHI_mean</th>\n",
       "      <th>DHI_median</th>\n",
       "      <th>DHI_std</th>\n",
       "    </tr>\n",
       "  </thead>\n",
       "  <tbody>\n",
       "    <tr>\n",
       "      <th>0</th>\n",
       "      <td>Benin</td>\n",
       "      <td>229.79</td>\n",
       "      <td>1.8</td>\n",
       "      <td>325.34</td>\n",
       "      <td>163.64</td>\n",
       "      <td>-0.1</td>\n",
       "      <td>260.81</td>\n",
       "      <td>107.87</td>\n",
       "      <td>1.6</td>\n",
       "      <td>149.81</td>\n",
       "    </tr>\n",
       "    <tr>\n",
       "      <th>1</th>\n",
       "      <td>Sierra Leone</td>\n",
       "      <td>162.97</td>\n",
       "      <td>-0.4</td>\n",
       "      <td>258.74</td>\n",
       "      <td>87.91</td>\n",
       "      <td>-0.1</td>\n",
       "      <td>179.88</td>\n",
       "      <td>99.62</td>\n",
       "      <td>-0.6</td>\n",
       "      <td>149.19</td>\n",
       "    </tr>\n",
       "    <tr>\n",
       "      <th>2</th>\n",
       "      <td>Togo</td>\n",
       "      <td>215.79</td>\n",
       "      <td>2.0</td>\n",
       "      <td>312.86</td>\n",
       "      <td>143.04</td>\n",
       "      <td>0.0</td>\n",
       "      <td>244.05</td>\n",
       "      <td>108.76</td>\n",
       "      <td>2.5</td>\n",
       "      <td>148.67</td>\n",
       "    </tr>\n",
       "  </tbody>\n",
       "</table>\n",
       "</div>"
      ],
      "text/plain": [
       "        Country  GHI_mean  GHI_median  GHI_std  DNI_mean  DNI_median  DNI_std  \\\n",
       "0         Benin    229.79         1.8   325.34    163.64        -0.1   260.81   \n",
       "1  Sierra Leone    162.97        -0.4   258.74     87.91        -0.1   179.88   \n",
       "2          Togo    215.79         2.0   312.86    143.04         0.0   244.05   \n",
       "\n",
       "   DHI_mean  DHI_median  DHI_std  \n",
       "0    107.87         1.6   149.81  \n",
       "1     99.62        -0.6   149.19  \n",
       "2    108.76         2.5   148.67  "
      ]
     },
     "execution_count": 11,
     "metadata": {},
     "output_type": "execute_result"
    }
   ],
   "source": [
    "summary_table"
   ]
  },
  {
   "cell_type": "markdown",
   "id": "faa8b054-9b68-4f2b-b4d1-21541a2dc78a",
   "metadata": {},
   "source": [
    "### III. Statistical Testing"
   ]
  },
  {
   "cell_type": "code",
   "execution_count": 12,
   "id": "7e4ed281-2d27-45cb-b29c-d293fd9ad852",
   "metadata": {},
   "outputs": [],
   "source": [
    "ghi_values = [group['GHI'].dropna().values for name, group in df.groupby('Country')]\n",
    "anova_result = f_oneway(*ghi_values)\n",
    "kruskal_result = kruskal(*ghi_values)\n",
    "\n",
    "anova_p = anova_result.pvalue\n",
    "kruskal_p = kruskal_result.pvalue"
   ]
  },
  {
   "cell_type": "code",
   "execution_count": 20,
   "id": "8dc493e0-e7a7-4ea7-a365-bdbcbad9fdb7",
   "metadata": {},
   "outputs": [
    {
     "name": "stdout",
     "output_type": "stream",
     "text": [
      "ANOVA p-value: 0.00e+00\n",
      "Kruskal–Wallis p-value: 0.00e+00\n"
     ]
    }
   ],
   "source": [
    "print(f\"ANOVA p-value: {anova_p:.2e}\")\n",
    "print(f\"Kruskal–Wallis p-value: {kruskal_p:.2e}\")"
   ]
  },
  {
   "cell_type": "markdown",
   "id": "7edfb630-dfcf-40ac-880f-d9aa0e553f1c",
   "metadata": {},
   "source": [
    "### IV. Bar chart of average GHI"
   ]
  },
  {
   "cell_type": "code",
   "execution_count": 21,
   "id": "61ba7447-bcc4-4570-9f93-6aace0fac395",
   "metadata": {},
   "outputs": [
    {
     "name": "stderr",
     "output_type": "stream",
     "text": [
      "C:\\Users\\ASTU-PG\\AppData\\Local\\Temp\\ipykernel_8968\\4209379875.py:3: FutureWarning: \n",
      "\n",
      "Passing `palette` without assigning `hue` is deprecated and will be removed in v0.14.0. Assign the `y` variable to `hue` and set `legend=False` for the same effect.\n",
      "\n",
      "  sns.barplot(x=avg_ghi.values, y=avg_ghi.index, palette='viridis')\n"
     ]
    },
    {
     "data": {
      "image/png": "[encoded data removed]",
      "text/plain": [
       "<Figure size 600x400 with 1 Axes>"
      ]
     },
     "metadata": {},
     "output_type": "display_data"
    }
   ],
   "source": [
    "avg_ghi = df.groupby('Country')['GHI'].mean().sort_values()\n",
    "plt.figure(figsize=(6, 4))\n",
    "sns.barplot(x=avg_ghi.values, y=avg_ghi.index, palette='viridis')\n",
    "plt.xlabel('Average GHI')\n",
    "plt.title('Average GHI by Country')\n",
    "plt.tight_layout()\n",
    "plt.show()"
   ]
  },
  {
   "cell_type": "code",
   "execution_count": null,
   "id": "86f28fb1-d40b-4685-90eb-19338dfd1936",
   "metadata": {},
   "outputs": [],
   "source": []
  }
 ],
 "metadata": {
  "kernelspec": {
   "display_name": "Python 3 (ipykernel)",
   "language": "python",
   "name": "python3"
  },
  "language_info": {
   "codemirror_mode": {
    "name": "ipython",
    "version": 3
   },
   "file_extension": ".py",
   "mimetype": "text/x-python",
   "name": "python",
   "nbconvert_exporter": "python",
   "pygments_lexer": "ipython3",
   "version": "3.11.11"
  }
 },
 "nbformat": 4,
 "nbformat_minor": 5
}
